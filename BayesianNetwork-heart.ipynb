{
 "cells": [
  {
   "cell_type": "markdown",
   "id": "c91fe301",
   "metadata": {},
   "source": [
    "### Write a program to construct a Bayesian network considering medical data. Use this model to demonstrate the diagnosis of heart patients using standard Heart Disease Data Set."
   ]
  },
  {
   "cell_type": "code",
   "execution_count": 2,
   "id": "5983dce5",
   "metadata": {},
   "outputs": [],
   "source": [
    "import numpy as np\n",
    "import pandas as pd\n",
    "import csv\n",
    "from pgmpy.estimators import MaximumLikelihoodEstimator\n",
    "from pgmpy.models import BayesianModel\n",
    "from pgmpy.inference import VariableElimination"
   ]
  },
  {
   "cell_type": "code",
   "execution_count": 3,
   "id": "e239b467",
   "metadata": {},
   "outputs": [
    {
     "name": "stdout",
     "output_type": "stream",
     "text": [
      "   Unnamed: 0  Age  Sex     ChestPain  RestBP  Chol  Fbs  RestECG  MaxHR  \\\n",
      "0           1   63    1       typical     145   233    1        2    150   \n",
      "1           2   67    1  asymptomatic     160   286    0        2    108   \n",
      "2           3   67    1  asymptomatic     120   229    0        2    129   \n",
      "3           4   37    1    nonanginal     130   250    0        0    187   \n",
      "4           5   41    0    nontypical     130   204    0        2    172   \n",
      "\n",
      "   ExAng  Oldpeak  Slope   Ca        Thal  AHD  \n",
      "0      0      2.3      3  0.0       fixed   No  \n",
      "1      1      1.5      2  3.0      normal  Yes  \n",
      "2      1      2.6      2  2.0  reversable  Yes  \n",
      "3      0      3.5      3  0.0      normal   No  \n",
      "4      0      1.4      1  0.0      normal   No  \n"
     ]
    }
   ],
   "source": [
    "heartDisease = pd.read_csv('Dataset/heart.csv') \n",
    "print(heartDisease.head())"
   ]
  },
  {
   "cell_type": "code",
   "execution_count": 4,
   "id": "c1340cfb",
   "metadata": {},
   "outputs": [
    {
     "name": "stdout",
     "output_type": "stream",
     "text": [
      "<class 'pandas.core.frame.DataFrame'>\n",
      "RangeIndex: 303 entries, 0 to 302\n",
      "Data columns (total 15 columns):\n",
      " #   Column      Non-Null Count  Dtype  \n",
      "---  ------      --------------  -----  \n",
      " 0   Unnamed: 0  303 non-null    int64  \n",
      " 1   Age         303 non-null    int64  \n",
      " 2   Sex         303 non-null    int64  \n",
      " 3   ChestPain   303 non-null    object \n",
      " 4   RestBP      303 non-null    int64  \n",
      " 5   Chol        303 non-null    int64  \n",
      " 6   Fbs         303 non-null    int64  \n",
      " 7   RestECG     303 non-null    int64  \n",
      " 8   MaxHR       303 non-null    int64  \n",
      " 9   ExAng       303 non-null    int64  \n",
      " 10  Oldpeak     303 non-null    float64\n",
      " 11  Slope       303 non-null    int64  \n",
      " 12  Ca          299 non-null    float64\n",
      " 13  Thal        301 non-null    object \n",
      " 14  AHD         303 non-null    object \n",
      "dtypes: float64(2), int64(10), object(3)\n",
      "memory usage: 35.6+ KB\n",
      "None\n"
     ]
    }
   ],
   "source": [
    "print(heartDisease.info())"
   ]
  },
  {
   "cell_type": "code",
   "execution_count": 6,
   "id": "2bc723cc",
   "metadata": {},
   "outputs": [
    {
     "name": "stdout",
     "output_type": "stream",
     "text": [
      "Unnamed: 0      int64\n",
      "Age             int64\n",
      "Sex             int64\n",
      "ChestPain      object\n",
      "RestBP          int64\n",
      "Chol            int64\n",
      "Fbs             int64\n",
      "RestECG         int64\n",
      "MaxHR           int64\n",
      "ExAng           int64\n",
      "Oldpeak       float64\n",
      "Slope           int64\n",
      "Ca            float64\n",
      "Thal           object\n",
      "AHD            object\n",
      "dtype: object\n"
     ]
    }
   ],
   "source": [
    "print(heartDisease.dtypes)"
   ]
  },
  {
   "cell_type": "code",
   "execution_count": 7,
   "id": "50b7de64",
   "metadata": {},
   "outputs": [],
   "source": [
    "model = BayesianModel([('Age','AHD'),('Sex','AHD'),('ExAng','AHD'),('ChestPain','AHD'),\n",
    "                       ('AHD','RestECG'),('AHD','Chol')])"
   ]
  },
  {
   "cell_type": "code",
   "execution_count": 8,
   "id": "dfdfd44e",
   "metadata": {},
   "outputs": [],
   "source": [
    "model.fit(heartDisease, estimator = MaximumLikelihoodEstimator)"
   ]
  },
  {
   "cell_type": "code",
   "execution_count": 9,
   "id": "94a57860",
   "metadata": {},
   "outputs": [],
   "source": [
    "HeartDiseasetest_infer = VariableElimination(model)"
   ]
  },
  {
   "cell_type": "code",
   "execution_count": 10,
   "id": "e2f8b7c7",
   "metadata": {},
   "outputs": [
    {
     "name": "stderr",
     "output_type": "stream",
     "text": [
      "Finding Elimination Order: :   0%|                                                               | 0/5 [00:00<?, ?it/s]\n",
      "  0%|                                                                                            | 0/5 [00:00<?, ?it/s]\u001b[A\n",
      "Finding Elimination Order: : 100%|██████████████████████████████████████████████████████| 5/5 [00:00<00:00, 291.58it/s]\u001b[A\n",
      "\n",
      "Eliminating: ExAng:   0%|                                                                        | 0/5 [00:00<?, ?it/s]\u001b[A\n",
      "Eliminating: Chol:   0%|                                                                         | 0/5 [00:00<?, ?it/s]\u001b[A\n",
      "Eliminating: ChestPain:   0%|                                                                    | 0/5 [00:00<?, ?it/s]\u001b[A\n",
      "Eliminating: Age: 100%|██████████████████████████████████████████████████████████████████| 5/5 [00:00<00:00, 61.50it/s]\u001b[A"
     ]
    },
    {
     "name": "stdout",
     "output_type": "stream",
     "text": [
      "+----------+------------+\n",
      "| AHD      |   phi(AHD) |\n",
      "+==========+============+\n",
      "| AHD(No)  |     0.2084 |\n",
      "+----------+------------+\n",
      "| AHD(Yes) |     0.7916 |\n",
      "+----------+------------+\n"
     ]
    },
    {
     "name": "stderr",
     "output_type": "stream",
     "text": [
      "\n"
     ]
    }
   ],
   "source": [
    "q1 = HeartDiseasetest_infer.query(variables=['AHD'],evidence={'RestECG':1}) \n",
    "print(q1)"
   ]
  },
  {
   "cell_type": "code",
   "execution_count": 11,
   "id": "e93a3f1f",
   "metadata": {},
   "outputs": [
    {
     "name": "stderr",
     "output_type": "stream",
     "text": [
      "c:\\users\\piyus\\appdata\\local\\programs\\python\\python39\\lib\\site-packages\\pgmpy\\factors\\discrete\\DiscreteFactor.py:518: UserWarning: Found unknown state name. Trying to switch to using all state names as state numbers\n",
      "  warn(\n",
      "Finding Elimination Order: :   0%|                                                               | 0/5 [00:00<?, ?it/s]\n",
      "  0%|                                                                                            | 0/5 [00:00<?, ?it/s]\u001b[A\n",
      "Eliminating: Sex:   0%|                                                                          | 0/5 [00:00<?, ?it/s]\u001b[A\n",
      "Eliminating: RestECG:   0%|                                                                      | 0/5 [00:00<?, ?it/s]\u001b[A\n",
      "Eliminating: ExAng:   0%|                                                                        | 0/5 [00:00<?, ?it/s]\u001b[A\n",
      "Eliminating: Chol:   0%|                                                                         | 0/5 [00:00<?, ?it/s]\u001b[A\n",
      "Eliminating: Age: 100%|█████████████████████████████████████████████████████████████████| 5/5 [00:00<00:00, 208.33it/s]\u001b[A"
     ]
    },
    {
     "name": "stdout",
     "output_type": "stream",
     "text": [
      "+----------+------------+\n",
      "| AHD      |   phi(AHD) |\n",
      "+==========+============+\n",
      "| AHD(No)  |     0.5591 |\n",
      "+----------+------------+\n",
      "| AHD(Yes) |     0.4409 |\n",
      "+----------+------------+\n"
     ]
    },
    {
     "name": "stderr",
     "output_type": "stream",
     "text": [
      "\n"
     ]
    }
   ],
   "source": [
    "q2 = HeartDiseasetest_infer.query(variables=['AHD'],evidence={'ChestPain':2})\n",
    "print(q2)"
   ]
  },
  {
   "cell_type": "code",
   "execution_count": null,
   "id": "f1b6d422",
   "metadata": {},
   "outputs": [],
   "source": []
  }
 ],
 "metadata": {
  "kernelspec": {
   "display_name": "Python 3",
   "language": "python",
   "name": "python3"
  },
  "language_info": {
   "codemirror_mode": {
    "name": "ipython",
    "version": 3
   },
   "file_extension": ".py",
   "mimetype": "text/x-python",
   "name": "python",
   "nbconvert_exporter": "python",
   "pygments_lexer": "ipython3",
   "version": "3.9.2"
  }
 },
 "nbformat": 4,
 "nbformat_minor": 5
}
